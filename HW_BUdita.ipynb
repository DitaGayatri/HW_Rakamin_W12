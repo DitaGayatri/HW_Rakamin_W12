{
 "cells": [
  {
   "cell_type": "markdown",
   "id": "9154ab6e-a7fd-4e90-bb8f-f7e301aed68e",
   "metadata": {
    "tags": []
   },
   "source": [
    "1. Peran dalam dataset : <br>\n",
    "2. Permasalahan yang ingin diselesaikan : Meningkatkan prediksi penjualan di setiap toko, memahami faktor-faktor yang mempengaruhi penjualan, dan mengoptimalkan strategi penjualan. <br>\n",
    "3. Goal yang ingin dicapai : Meningkatkan akurasi peramalan penjualan di setiap toko, mengidentifikasi pola penjualan yang konsisten, dan memaksimalkan pendapatan. <br>\n",
    "4. Objective yang ingin dilakukan : <br>\n",
    "- Mengidentifikasi pola penjualan berdasarkan jenis toko, lokasi dan waktu<br>\n",
    "- Menganalisis pengaruh diskon, hari libur, dan jenis lokasi terhadap penjualan.<br>\n",
    "5. Business metric : <br> \n",
    "- Tingkat akurasi peramalan penjualan. <br>\n",
    "- Persentase kenaikan penjualan setelah penerapan rekomendasi. <br>"
   ]
  },
  {
   "cell_type": "code",
   "execution_count": 2,
   "id": "0d4b1d37-5e0a-4536-be70-7e5d930b50e9",
   "metadata": {
    "tags": []
   },
   "outputs": [],
   "source": [
    "import numpy as np\n",
    "import pandas as pd\n",
    "import matplotlib.pyplot as plt\n",
    "import seaborn as sns\n",
    "%matplotlib inline\n",
    "\n",
    "from scipy import stats"
   ]
  },
  {
   "cell_type": "code",
   "execution_count": 3,
   "id": "e6f461c6-38ae-48f3-a65e-ea443a99dbcd",
   "metadata": {
    "tags": []
   },
   "outputs": [
    {
     "data": {
      "text/html": [
       "<div>\n",
       "<style scoped>\n",
       "    .dataframe tbody tr th:only-of-type {\n",
       "        vertical-align: middle;\n",
       "    }\n",
       "\n",
       "    .dataframe tbody tr th {\n",
       "        vertical-align: top;\n",
       "    }\n",
       "\n",
       "    .dataframe thead th {\n",
       "        text-align: right;\n",
       "    }\n",
       "</style>\n",
       "<table border=\"1\" class=\"dataframe\">\n",
       "  <thead>\n",
       "    <tr style=\"text-align: right;\">\n",
       "      <th></th>\n",
       "      <th>ID</th>\n",
       "      <th>Store_id</th>\n",
       "      <th>Store_Type</th>\n",
       "      <th>Location_Type</th>\n",
       "      <th>Region_Code</th>\n",
       "      <th>Date</th>\n",
       "      <th>Holiday</th>\n",
       "      <th>Discount</th>\n",
       "      <th>#Order</th>\n",
       "      <th>Sales</th>\n",
       "    </tr>\n",
       "  </thead>\n",
       "  <tbody>\n",
       "    <tr>\n",
       "      <th>0</th>\n",
       "      <td>T1000001</td>\n",
       "      <td>1</td>\n",
       "      <td>S1</td>\n",
       "      <td>L3</td>\n",
       "      <td>R1</td>\n",
       "      <td>2018-01-01</td>\n",
       "      <td>1</td>\n",
       "      <td>Yes</td>\n",
       "      <td>9</td>\n",
       "      <td>7011.84</td>\n",
       "    </tr>\n",
       "    <tr>\n",
       "      <th>1</th>\n",
       "      <td>T1000002</td>\n",
       "      <td>253</td>\n",
       "      <td>S4</td>\n",
       "      <td>L2</td>\n",
       "      <td>R1</td>\n",
       "      <td>2018-01-01</td>\n",
       "      <td>1</td>\n",
       "      <td>Yes</td>\n",
       "      <td>60</td>\n",
       "      <td>51789.12</td>\n",
       "    </tr>\n",
       "    <tr>\n",
       "      <th>2</th>\n",
       "      <td>T1000003</td>\n",
       "      <td>252</td>\n",
       "      <td>S3</td>\n",
       "      <td>L2</td>\n",
       "      <td>R1</td>\n",
       "      <td>2018-01-01</td>\n",
       "      <td>1</td>\n",
       "      <td>Yes</td>\n",
       "      <td>42</td>\n",
       "      <td>36868.20</td>\n",
       "    </tr>\n",
       "    <tr>\n",
       "      <th>3</th>\n",
       "      <td>T1000004</td>\n",
       "      <td>251</td>\n",
       "      <td>S2</td>\n",
       "      <td>L3</td>\n",
       "      <td>R1</td>\n",
       "      <td>2018-01-01</td>\n",
       "      <td>1</td>\n",
       "      <td>Yes</td>\n",
       "      <td>23</td>\n",
       "      <td>19715.16</td>\n",
       "    </tr>\n",
       "    <tr>\n",
       "      <th>4</th>\n",
       "      <td>T1000005</td>\n",
       "      <td>250</td>\n",
       "      <td>S2</td>\n",
       "      <td>L3</td>\n",
       "      <td>R4</td>\n",
       "      <td>2018-01-01</td>\n",
       "      <td>1</td>\n",
       "      <td>Yes</td>\n",
       "      <td>62</td>\n",
       "      <td>45614.52</td>\n",
       "    </tr>\n",
       "  </tbody>\n",
       "</table>\n",
       "</div>"
      ],
      "text/plain": [
       "         ID  Store_id Store_Type Location_Type Region_Code        Date  \\\n",
       "0  T1000001         1         S1            L3          R1  2018-01-01   \n",
       "1  T1000002       253         S4            L2          R1  2018-01-01   \n",
       "2  T1000003       252         S3            L2          R1  2018-01-01   \n",
       "3  T1000004       251         S2            L3          R1  2018-01-01   \n",
       "4  T1000005       250         S2            L3          R4  2018-01-01   \n",
       "\n",
       "   Holiday Discount  #Order     Sales  \n",
       "0        1      Yes       9   7011.84  \n",
       "1        1      Yes      60  51789.12  \n",
       "2        1      Yes      42  36868.20  \n",
       "3        1      Yes      23  19715.16  \n",
       "4        1      Yes      62  45614.52  "
      ]
     },
     "execution_count": 3,
     "metadata": {},
     "output_type": "execute_result"
    }
   ],
   "source": [
    "df = pd.read_csv('train.csv')\n",
    "df.head()"
   ]
  },
  {
   "cell_type": "code",
   "execution_count": 4,
   "id": "e93cdc59-d4ce-4f9a-995f-3703c85470f3",
   "metadata": {
    "tags": []
   },
   "outputs": [
    {
     "name": "stdout",
     "output_type": "stream",
     "text": [
      "<class 'pandas.core.frame.DataFrame'>\n",
      "RangeIndex: 188340 entries, 0 to 188339\n",
      "Data columns (total 10 columns):\n",
      " #   Column         Non-Null Count   Dtype  \n",
      "---  ------         --------------   -----  \n",
      " 0   ID             188340 non-null  object \n",
      " 1   Store_id       188340 non-null  int64  \n",
      " 2   Store_Type     188340 non-null  object \n",
      " 3   Location_Type  188340 non-null  object \n",
      " 4   Region_Code    188340 non-null  object \n",
      " 5   Date           188340 non-null  object \n",
      " 6   Holiday        188340 non-null  int64  \n",
      " 7   Discount       188340 non-null  object \n",
      " 8   #Order         188340 non-null  int64  \n",
      " 9   Sales          188340 non-null  float64\n",
      "dtypes: float64(1), int64(3), object(6)\n",
      "memory usage: 14.4+ MB\n"
     ]
    }
   ],
   "source": [
    "df.info()"
   ]
  },
  {
   "cell_type": "code",
   "execution_count": 5,
   "id": "0cf81be8-d8fe-4eb5-a59f-10f8755505dd",
   "metadata": {
    "tags": []
   },
   "outputs": [
    {
     "data": {
      "text/html": [
       "<div>\n",
       "<style scoped>\n",
       "    .dataframe tbody tr th:only-of-type {\n",
       "        vertical-align: middle;\n",
       "    }\n",
       "\n",
       "    .dataframe tbody tr th {\n",
       "        vertical-align: top;\n",
       "    }\n",
       "\n",
       "    .dataframe thead th {\n",
       "        text-align: right;\n",
       "    }\n",
       "</style>\n",
       "<table border=\"1\" class=\"dataframe\">\n",
       "  <thead>\n",
       "    <tr style=\"text-align: right;\">\n",
       "      <th></th>\n",
       "      <th>Store_id</th>\n",
       "      <th>Holiday</th>\n",
       "      <th>#Order</th>\n",
       "      <th>Sales</th>\n",
       "    </tr>\n",
       "  </thead>\n",
       "  <tbody>\n",
       "    <tr>\n",
       "      <th>count</th>\n",
       "      <td>188340.000000</td>\n",
       "      <td>188340.000000</td>\n",
       "      <td>188340.000000</td>\n",
       "      <td>188340.000000</td>\n",
       "    </tr>\n",
       "    <tr>\n",
       "      <th>mean</th>\n",
       "      <td>183.000000</td>\n",
       "      <td>0.131783</td>\n",
       "      <td>68.205692</td>\n",
       "      <td>42784.327982</td>\n",
       "    </tr>\n",
       "    <tr>\n",
       "      <th>std</th>\n",
       "      <td>105.366308</td>\n",
       "      <td>0.338256</td>\n",
       "      <td>30.467415</td>\n",
       "      <td>18456.708302</td>\n",
       "    </tr>\n",
       "    <tr>\n",
       "      <th>min</th>\n",
       "      <td>1.000000</td>\n",
       "      <td>0.000000</td>\n",
       "      <td>0.000000</td>\n",
       "      <td>0.000000</td>\n",
       "    </tr>\n",
       "    <tr>\n",
       "      <th>25%</th>\n",
       "      <td>92.000000</td>\n",
       "      <td>0.000000</td>\n",
       "      <td>48.000000</td>\n",
       "      <td>30426.000000</td>\n",
       "    </tr>\n",
       "    <tr>\n",
       "      <th>50%</th>\n",
       "      <td>183.000000</td>\n",
       "      <td>0.000000</td>\n",
       "      <td>63.000000</td>\n",
       "      <td>39678.000000</td>\n",
       "    </tr>\n",
       "    <tr>\n",
       "      <th>75%</th>\n",
       "      <td>274.000000</td>\n",
       "      <td>0.000000</td>\n",
       "      <td>82.000000</td>\n",
       "      <td>51909.000000</td>\n",
       "    </tr>\n",
       "    <tr>\n",
       "      <th>max</th>\n",
       "      <td>365.000000</td>\n",
       "      <td>1.000000</td>\n",
       "      <td>371.000000</td>\n",
       "      <td>247215.000000</td>\n",
       "    </tr>\n",
       "  </tbody>\n",
       "</table>\n",
       "</div>"
      ],
      "text/plain": [
       "            Store_id        Holiday         #Order          Sales\n",
       "count  188340.000000  188340.000000  188340.000000  188340.000000\n",
       "mean      183.000000       0.131783      68.205692   42784.327982\n",
       "std       105.366308       0.338256      30.467415   18456.708302\n",
       "min         1.000000       0.000000       0.000000       0.000000\n",
       "25%        92.000000       0.000000      48.000000   30426.000000\n",
       "50%       183.000000       0.000000      63.000000   39678.000000\n",
       "75%       274.000000       0.000000      82.000000   51909.000000\n",
       "max       365.000000       1.000000     371.000000  247215.000000"
      ]
     },
     "execution_count": 5,
     "metadata": {},
     "output_type": "execute_result"
    }
   ],
   "source": [
    "df.describe()"
   ]
  },
  {
   "cell_type": "code",
   "execution_count": 6,
   "id": "520dcdef-43e1-42fb-86f7-21cb280fbafb",
   "metadata": {
    "tags": []
   },
   "outputs": [
    {
     "data": {
      "text/html": [
       "<div>\n",
       "<style scoped>\n",
       "    .dataframe tbody tr th:only-of-type {\n",
       "        vertical-align: middle;\n",
       "    }\n",
       "\n",
       "    .dataframe tbody tr th {\n",
       "        vertical-align: top;\n",
       "    }\n",
       "\n",
       "    .dataframe thead th {\n",
       "        text-align: right;\n",
       "    }\n",
       "</style>\n",
       "<table border=\"1\" class=\"dataframe\">\n",
       "  <thead>\n",
       "    <tr style=\"text-align: right;\">\n",
       "      <th></th>\n",
       "      <th>Store_id</th>\n",
       "      <th>Store_Type</th>\n",
       "      <th>Location_Type</th>\n",
       "      <th>Region_Code</th>\n",
       "    </tr>\n",
       "  </thead>\n",
       "  <tbody>\n",
       "    <tr>\n",
       "      <th>0</th>\n",
       "      <td>1</td>\n",
       "      <td>S1</td>\n",
       "      <td>L3</td>\n",
       "      <td>R1</td>\n",
       "    </tr>\n",
       "    <tr>\n",
       "      <th>1</th>\n",
       "      <td>253</td>\n",
       "      <td>S4</td>\n",
       "      <td>L2</td>\n",
       "      <td>R1</td>\n",
       "    </tr>\n",
       "    <tr>\n",
       "      <th>2</th>\n",
       "      <td>252</td>\n",
       "      <td>S3</td>\n",
       "      <td>L2</td>\n",
       "      <td>R1</td>\n",
       "    </tr>\n",
       "    <tr>\n",
       "      <th>3</th>\n",
       "      <td>251</td>\n",
       "      <td>S2</td>\n",
       "      <td>L3</td>\n",
       "      <td>R1</td>\n",
       "    </tr>\n",
       "    <tr>\n",
       "      <th>4</th>\n",
       "      <td>250</td>\n",
       "      <td>S2</td>\n",
       "      <td>L3</td>\n",
       "      <td>R4</td>\n",
       "    </tr>\n",
       "  </tbody>\n",
       "</table>\n",
       "</div>"
      ],
      "text/plain": [
       "   Store_id Store_Type Location_Type Region_Code\n",
       "0         1         S1            L3          R1\n",
       "1       253         S4            L2          R1\n",
       "2       252         S3            L2          R1\n",
       "3       251         S2            L3          R1\n",
       "4       250         S2            L3          R4"
      ]
     },
     "execution_count": 6,
     "metadata": {},
     "output_type": "execute_result"
    }
   ],
   "source": [
    "data = df[['Store_id', 'Store_Type', 'Location_Type', 'Region_Code']].drop_duplicates()\n",
    "data.head()"
   ]
  },
  {
   "cell_type": "code",
   "execution_count": 7,
   "id": "e7a6e2d6-2624-42f4-aefa-79a071d07a50",
   "metadata": {
    "tags": []
   },
   "outputs": [
    {
     "data": {
      "text/plain": [
       "Region_Code  Location_Type  Store_Type\n",
       "R1           L1             S1            17\n",
       "                            S2             2\n",
       "                            S3            11\n",
       "                            S4            21\n",
       "             L2             S1             1\n",
       "                            S3             4\n",
       "                            S4            33\n",
       "             L3             S1            13\n",
       "                            S2             1\n",
       "                            S3             3\n",
       "             L4             S1             6\n",
       "             L5             S1             4\n",
       "                            S2             8\n",
       "R2           L1             S1            35\n",
       "                            S2             3\n",
       "                            S3             7\n",
       "                            S4             3\n",
       "             L2             S1             6\n",
       "                            S3             2\n",
       "                            S4            13\n",
       "             L3             S1            13\n",
       "                            S2             5\n",
       "             L4             S1             3\n",
       "                            S2             6\n",
       "             L5             S1             3\n",
       "                            S2             6\n",
       "R3           L1             S1            29\n",
       "                            S2             2\n",
       "                            S3             7\n",
       "                            S4             2\n",
       "             L2             S1             4\n",
       "                            S3             7\n",
       "                            S4            12\n",
       "             L3             S1             9\n",
       "                            S2             7\n",
       "                            S3             1\n",
       "             L4             S1             3\n",
       "                            S2             1\n",
       "             L5             S2             2\n",
       "R4           L1             S1            22\n",
       "                            S2             2\n",
       "                            S3             1\n",
       "                            S4             1\n",
       "             L2             S1             3\n",
       "                            S3             5\n",
       "                            S4             4\n",
       "             L3             S1             1\n",
       "                            S2             5\n",
       "             L4             S2             2\n",
       "             L5             S2             4\n",
       "Name: Store_id, dtype: int64"
      ]
     },
     "execution_count": 7,
     "metadata": {},
     "output_type": "execute_result"
    }
   ],
   "source": [
    "df_group = data.groupby(['Region_Code', 'Location_Type', 'Store_Type'])['Store_id'].count()\n",
    "df_group"
   ]
  },
  {
   "cell_type": "code",
   "execution_count": 8,
   "id": "e3c16089-37ca-4810-8ab2-b30b99e43f27",
   "metadata": {
    "tags": []
   },
   "outputs": [
    {
     "name": "stdout",
     "output_type": "stream",
     "text": [
      "fitur numerik :  ['Store_id', 'Holiday', '#Order', 'Sales']\n",
      "fitur kategorik :  ['ID', 'Store_Type', 'Location_Type', 'Region_Code', 'Date', 'Discount']\n"
     ]
    }
   ],
   "source": [
    "#Mengelompokan fitur sesuai data types numerik dan kategorik\n",
    "nums = list(df.select_dtypes(include=['int64', 'float64']))\n",
    "cats = list(df.select_dtypes(include=['object']))\n",
    "\n",
    "print('fitur numerik : ', nums)\n",
    "print('fitur kategorik : ', cats)"
   ]
  },
  {
   "cell_type": "code",
   "execution_count": 9,
   "id": "5d7c696f-9ed0-4d00-8577-09e062602b0b",
   "metadata": {
    "tags": []
   },
   "outputs": [],
   "source": [
    "cats = ['ID', 'Store_Type', 'Location_Type', 'Region_Code', 'Date', 'Discount']\n",
    "nums =  ['Store_id', 'Holiday', '#Order', 'Sales']"
   ]
  },
  {
   "cell_type": "code",
   "execution_count": 10,
   "id": "6e07e64e-381a-4dab-bd6d-7ecb20763f54",
   "metadata": {
    "tags": []
   },
   "outputs": [
    {
     "data": {
      "text/html": [
       "<div>\n",
       "<style scoped>\n",
       "    .dataframe tbody tr th:only-of-type {\n",
       "        vertical-align: middle;\n",
       "    }\n",
       "\n",
       "    .dataframe tbody tr th {\n",
       "        vertical-align: top;\n",
       "    }\n",
       "\n",
       "    .dataframe thead th {\n",
       "        text-align: right;\n",
       "    }\n",
       "</style>\n",
       "<table border=\"1\" class=\"dataframe\">\n",
       "  <thead>\n",
       "    <tr style=\"text-align: right;\">\n",
       "      <th></th>\n",
       "      <th>ID</th>\n",
       "      <th>Store_Type</th>\n",
       "      <th>Location_Type</th>\n",
       "      <th>Region_Code</th>\n",
       "      <th>Date</th>\n",
       "      <th>Discount</th>\n",
       "    </tr>\n",
       "  </thead>\n",
       "  <tbody>\n",
       "    <tr>\n",
       "      <th>count</th>\n",
       "      <td>188340</td>\n",
       "      <td>188340</td>\n",
       "      <td>188340</td>\n",
       "      <td>188340</td>\n",
       "      <td>188340</td>\n",
       "      <td>188340</td>\n",
       "    </tr>\n",
       "    <tr>\n",
       "      <th>unique</th>\n",
       "      <td>188340</td>\n",
       "      <td>4</td>\n",
       "      <td>5</td>\n",
       "      <td>4</td>\n",
       "      <td>516</td>\n",
       "      <td>2</td>\n",
       "    </tr>\n",
       "    <tr>\n",
       "      <th>top</th>\n",
       "      <td>T1000001</td>\n",
       "      <td>S1</td>\n",
       "      <td>L1</td>\n",
       "      <td>R1</td>\n",
       "      <td>2018-01-01</td>\n",
       "      <td>No</td>\n",
       "    </tr>\n",
       "    <tr>\n",
       "      <th>freq</th>\n",
       "      <td>1</td>\n",
       "      <td>88752</td>\n",
       "      <td>85140</td>\n",
       "      <td>63984</td>\n",
       "      <td>365</td>\n",
       "      <td>104051</td>\n",
       "    </tr>\n",
       "  </tbody>\n",
       "</table>\n",
       "</div>"
      ],
      "text/plain": [
       "              ID Store_Type Location_Type Region_Code        Date Discount\n",
       "count     188340     188340        188340      188340      188340   188340\n",
       "unique    188340          4             5           4         516        2\n",
       "top     T1000001         S1            L1          R1  2018-01-01       No\n",
       "freq           1      88752         85140       63984         365   104051"
      ]
     },
     "execution_count": 10,
     "metadata": {},
     "output_type": "execute_result"
    }
   ],
   "source": [
    "df[cats].describe()"
   ]
  },
  {
   "cell_type": "code",
   "execution_count": 11,
   "id": "f6321716-33c1-4210-911d-7b52fed67c5f",
   "metadata": {
    "tags": []
   },
   "outputs": [
    {
     "data": {
      "text/html": [
       "<div>\n",
       "<style scoped>\n",
       "    .dataframe tbody tr th:only-of-type {\n",
       "        vertical-align: middle;\n",
       "    }\n",
       "\n",
       "    .dataframe tbody tr th {\n",
       "        vertical-align: top;\n",
       "    }\n",
       "\n",
       "    .dataframe thead th {\n",
       "        text-align: right;\n",
       "    }\n",
       "</style>\n",
       "<table border=\"1\" class=\"dataframe\">\n",
       "  <thead>\n",
       "    <tr style=\"text-align: right;\">\n",
       "      <th></th>\n",
       "      <th>Store_id</th>\n",
       "      <th>Holiday</th>\n",
       "      <th>#Order</th>\n",
       "      <th>Sales</th>\n",
       "    </tr>\n",
       "  </thead>\n",
       "  <tbody>\n",
       "    <tr>\n",
       "      <th>Store_id</th>\n",
       "      <td>1.000000e+00</td>\n",
       "      <td>5.380970e-16</td>\n",
       "      <td>0.028290</td>\n",
       "      <td>0.004377</td>\n",
       "    </tr>\n",
       "    <tr>\n",
       "      <th>Holiday</th>\n",
       "      <td>5.380970e-16</td>\n",
       "      <td>1.000000e+00</td>\n",
       "      <td>-0.140496</td>\n",
       "      <td>-0.154779</td>\n",
       "    </tr>\n",
       "    <tr>\n",
       "      <th>#Order</th>\n",
       "      <td>2.828985e-02</td>\n",
       "      <td>-1.404963e-01</td>\n",
       "      <td>1.000000</td>\n",
       "      <td>0.941601</td>\n",
       "    </tr>\n",
       "    <tr>\n",
       "      <th>Sales</th>\n",
       "      <td>4.376631e-03</td>\n",
       "      <td>-1.547788e-01</td>\n",
       "      <td>0.941601</td>\n",
       "      <td>1.000000</td>\n",
       "    </tr>\n",
       "  </tbody>\n",
       "</table>\n",
       "</div>"
      ],
      "text/plain": [
       "              Store_id       Holiday    #Order     Sales\n",
       "Store_id  1.000000e+00  5.380970e-16  0.028290  0.004377\n",
       "Holiday   5.380970e-16  1.000000e+00 -0.140496 -0.154779\n",
       "#Order    2.828985e-02 -1.404963e-01  1.000000  0.941601\n",
       "Sales     4.376631e-03 -1.547788e-01  0.941601  1.000000"
      ]
     },
     "execution_count": 11,
     "metadata": {},
     "output_type": "execute_result"
    }
   ],
   "source": [
    "df[nums].corr()"
   ]
  },
  {
   "cell_type": "code",
   "execution_count": 12,
   "id": "aa3dd8ca-b694-4867-97c5-f52c4c72d621",
   "metadata": {
    "tags": []
   },
   "outputs": [
    {
     "data": {
      "text/plain": [
       "<Axes: >"
      ]
     },
     "execution_count": 12,
     "metadata": {},
     "output_type": "execute_result"
    },
    {
     "data": {
      "image/png": "[encoded data removed]",
      "text/plain": [
       "<Figure size 400x400 with 2 Axes>"
      ]
     },
     "metadata": {},
     "output_type": "display_data"
    }
   ],
   "source": [
    "plt.figure(figsize=(4, 4))\n",
    "sns.heatmap(df[nums].corr(), cmap='Blues', annot=True, fmt='.2f')"
   ]
  },
  {
   "cell_type": "code",
   "execution_count": 13,
   "id": "2831ed59-6e7e-4d50-9074-9e1aaa9e0619",
   "metadata": {
    "tags": []
   },
   "outputs": [
    {
     "data": {
      "text/html": [
       "<div>\n",
       "<style scoped>\n",
       "    .dataframe tbody tr th:only-of-type {\n",
       "        vertical-align: middle;\n",
       "    }\n",
       "\n",
       "    .dataframe tbody tr th {\n",
       "        vertical-align: top;\n",
       "    }\n",
       "\n",
       "    .dataframe thead th {\n",
       "        text-align: right;\n",
       "    }\n",
       "</style>\n",
       "<table border=\"1\" class=\"dataframe\">\n",
       "  <thead>\n",
       "    <tr style=\"text-align: right;\">\n",
       "      <th></th>\n",
       "      <th>count</th>\n",
       "      <th>mean</th>\n",
       "      <th>std</th>\n",
       "      <th>min</th>\n",
       "      <th>25%</th>\n",
       "      <th>50%</th>\n",
       "      <th>75%</th>\n",
       "      <th>max</th>\n",
       "    </tr>\n",
       "    <tr>\n",
       "      <th>Region_Code</th>\n",
       "      <th></th>\n",
       "      <th></th>\n",
       "      <th></th>\n",
       "      <th></th>\n",
       "      <th></th>\n",
       "      <th></th>\n",
       "      <th></th>\n",
       "      <th></th>\n",
       "    </tr>\n",
       "  </thead>\n",
       "  <tbody>\n",
       "    <tr>\n",
       "      <th>R1</th>\n",
       "      <td>63984.0</td>\n",
       "      <td>46765.488405</td>\n",
       "      <td>21286.095441</td>\n",
       "      <td>0.0</td>\n",
       "      <td>32091.00</td>\n",
       "      <td>43125.0</td>\n",
       "      <td>57624.00</td>\n",
       "      <td>247215.0</td>\n",
       "    </tr>\n",
       "    <tr>\n",
       "      <th>R2</th>\n",
       "      <td>54180.0</td>\n",
       "      <td>40054.847344</td>\n",
       "      <td>16468.619529</td>\n",
       "      <td>0.0</td>\n",
       "      <td>29078.25</td>\n",
       "      <td>37548.0</td>\n",
       "      <td>48357.00</td>\n",
       "      <td>192156.0</td>\n",
       "    </tr>\n",
       "    <tr>\n",
       "      <th>R3</th>\n",
       "      <td>44376.0</td>\n",
       "      <td>42144.517063</td>\n",
       "      <td>16615.730308</td>\n",
       "      <td>0.0</td>\n",
       "      <td>30876.00</td>\n",
       "      <td>39661.5</td>\n",
       "      <td>50970.75</td>\n",
       "      <td>227127.0</td>\n",
       "    </tr>\n",
       "    <tr>\n",
       "      <th>R4</th>\n",
       "      <td>25800.0</td>\n",
       "      <td>39743.434249</td>\n",
       "      <td>15930.494396</td>\n",
       "      <td>2009.7</td>\n",
       "      <td>29195.64</td>\n",
       "      <td>37474.5</td>\n",
       "      <td>47796.00</td>\n",
       "      <td>161271.0</td>\n",
       "    </tr>\n",
       "  </tbody>\n",
       "</table>\n",
       "</div>"
      ],
      "text/plain": [
       "               count          mean           std     min       25%      50%  \\\n",
       "Region_Code                                                                   \n",
       "R1           63984.0  46765.488405  21286.095441     0.0  32091.00  43125.0   \n",
       "R2           54180.0  40054.847344  16468.619529     0.0  29078.25  37548.0   \n",
       "R3           44376.0  42144.517063  16615.730308     0.0  30876.00  39661.5   \n",
       "R4           25800.0  39743.434249  15930.494396  2009.7  29195.64  37474.5   \n",
       "\n",
       "                  75%       max  \n",
       "Region_Code                      \n",
       "R1           57624.00  247215.0  \n",
       "R2           48357.00  192156.0  \n",
       "R3           50970.75  227127.0  \n",
       "R4           47796.00  161271.0  "
      ]
     },
     "execution_count": 13,
     "metadata": {},
     "output_type": "execute_result"
    }
   ],
   "source": [
    "df.groupby('Region_Code')['Sales'].describe()"
   ]
  },
  {
   "cell_type": "code",
   "execution_count": 14,
   "id": "315491b9-0a12-431b-948b-22e9af00ee06",
   "metadata": {
    "tags": []
   },
   "outputs": [
    {
     "data": {
      "text/html": [
       "<div>\n",
       "<style scoped>\n",
       "    .dataframe tbody tr th:only-of-type {\n",
       "        vertical-align: middle;\n",
       "    }\n",
       "\n",
       "    .dataframe tbody tr th {\n",
       "        vertical-align: top;\n",
       "    }\n",
       "\n",
       "    .dataframe thead th {\n",
       "        text-align: right;\n",
       "    }\n",
       "</style>\n",
       "<table border=\"1\" class=\"dataframe\">\n",
       "  <thead>\n",
       "    <tr style=\"text-align: right;\">\n",
       "      <th></th>\n",
       "      <th>count</th>\n",
       "      <th>mean</th>\n",
       "      <th>std</th>\n",
       "      <th>min</th>\n",
       "      <th>25%</th>\n",
       "      <th>50%</th>\n",
       "      <th>75%</th>\n",
       "      <th>max</th>\n",
       "    </tr>\n",
       "    <tr>\n",
       "      <th>Location_Type</th>\n",
       "      <th></th>\n",
       "      <th></th>\n",
       "      <th></th>\n",
       "      <th></th>\n",
       "      <th></th>\n",
       "      <th></th>\n",
       "      <th></th>\n",
       "      <th></th>\n",
       "    </tr>\n",
       "  </thead>\n",
       "  <tbody>\n",
       "    <tr>\n",
       "      <th>L1</th>\n",
       "      <td>85140.0</td>\n",
       "      <td>41453.597889</td>\n",
       "      <td>13520.616642</td>\n",
       "      <td>0.00</td>\n",
       "      <td>32598.00</td>\n",
       "      <td>39831.000</td>\n",
       "      <td>48702.000</td>\n",
       "      <td>144789.0</td>\n",
       "    </tr>\n",
       "    <tr>\n",
       "      <th>L2</th>\n",
       "      <td>48504.0</td>\n",
       "      <td>59231.480373</td>\n",
       "      <td>20642.975708</td>\n",
       "      <td>0.00</td>\n",
       "      <td>45731.25</td>\n",
       "      <td>56235.975</td>\n",
       "      <td>69555.000</td>\n",
       "      <td>247215.0</td>\n",
       "    </tr>\n",
       "    <tr>\n",
       "      <th>L3</th>\n",
       "      <td>29928.0</td>\n",
       "      <td>33072.257756</td>\n",
       "      <td>10720.509117</td>\n",
       "      <td>0.00</td>\n",
       "      <td>26119.98</td>\n",
       "      <td>31987.200</td>\n",
       "      <td>39084.000</td>\n",
       "      <td>117495.0</td>\n",
       "    </tr>\n",
       "    <tr>\n",
       "      <th>L4</th>\n",
       "      <td>10836.0</td>\n",
       "      <td>29067.414313</td>\n",
       "      <td>9176.431608</td>\n",
       "      <td>1969.14</td>\n",
       "      <td>23075.25</td>\n",
       "      <td>28554.000</td>\n",
       "      <td>34413.750</td>\n",
       "      <td>91677.0</td>\n",
       "    </tr>\n",
       "    <tr>\n",
       "      <th>L5</th>\n",
       "      <td>13932.0</td>\n",
       "      <td>25187.787261</td>\n",
       "      <td>8990.099353</td>\n",
       "      <td>1748.28</td>\n",
       "      <td>19416.00</td>\n",
       "      <td>24528.000</td>\n",
       "      <td>30395.235</td>\n",
       "      <td>86203.2</td>\n",
       "    </tr>\n",
       "  </tbody>\n",
       "</table>\n",
       "</div>"
      ],
      "text/plain": [
       "                 count          mean           std      min       25%  \\\n",
       "Location_Type                                                           \n",
       "L1             85140.0  41453.597889  13520.616642     0.00  32598.00   \n",
       "L2             48504.0  59231.480373  20642.975708     0.00  45731.25   \n",
       "L3             29928.0  33072.257756  10720.509117     0.00  26119.98   \n",
       "L4             10836.0  29067.414313   9176.431608  1969.14  23075.25   \n",
       "L5             13932.0  25187.787261   8990.099353  1748.28  19416.00   \n",
       "\n",
       "                     50%        75%       max  \n",
       "Location_Type                                  \n",
       "L1             39831.000  48702.000  144789.0  \n",
       "L2             56235.975  69555.000  247215.0  \n",
       "L3             31987.200  39084.000  117495.0  \n",
       "L4             28554.000  34413.750   91677.0  \n",
       "L5             24528.000  30395.235   86203.2  "
      ]
     },
     "execution_count": 14,
     "metadata": {},
     "output_type": "execute_result"
    }
   ],
   "source": [
    "df.groupby('Location_Type')['Sales'].describe()"
   ]
  },
  {
   "cell_type": "code",
   "execution_count": 15,
   "id": "18d57be5-c5f7-46c9-950f-9ab3bdbaf5ab",
   "metadata": {
    "tags": []
   },
   "outputs": [
    {
     "data": {
      "text/html": [
       "<div>\n",
       "<style scoped>\n",
       "    .dataframe tbody tr th:only-of-type {\n",
       "        vertical-align: middle;\n",
       "    }\n",
       "\n",
       "    .dataframe tbody tr th {\n",
       "        vertical-align: top;\n",
       "    }\n",
       "\n",
       "    .dataframe thead th {\n",
       "        text-align: right;\n",
       "    }\n",
       "</style>\n",
       "<table border=\"1\" class=\"dataframe\">\n",
       "  <thead>\n",
       "    <tr style=\"text-align: right;\">\n",
       "      <th></th>\n",
       "      <th>count</th>\n",
       "      <th>mean</th>\n",
       "      <th>std</th>\n",
       "      <th>min</th>\n",
       "      <th>25%</th>\n",
       "      <th>50%</th>\n",
       "      <th>75%</th>\n",
       "      <th>max</th>\n",
       "    </tr>\n",
       "    <tr>\n",
       "      <th>Location_Type</th>\n",
       "      <th></th>\n",
       "      <th></th>\n",
       "      <th></th>\n",
       "      <th></th>\n",
       "      <th></th>\n",
       "      <th></th>\n",
       "      <th></th>\n",
       "      <th></th>\n",
       "    </tr>\n",
       "  </thead>\n",
       "  <tbody>\n",
       "    <tr>\n",
       "      <th>L1</th>\n",
       "      <td>85140.0</td>\n",
       "      <td>41453.597889</td>\n",
       "      <td>13520.616642</td>\n",
       "      <td>0.00</td>\n",
       "      <td>32598.00</td>\n",
       "      <td>39831.000</td>\n",
       "      <td>48702.000</td>\n",
       "      <td>144789.0</td>\n",
       "    </tr>\n",
       "    <tr>\n",
       "      <th>L2</th>\n",
       "      <td>48504.0</td>\n",
       "      <td>59231.480373</td>\n",
       "      <td>20642.975708</td>\n",
       "      <td>0.00</td>\n",
       "      <td>45731.25</td>\n",
       "      <td>56235.975</td>\n",
       "      <td>69555.000</td>\n",
       "      <td>247215.0</td>\n",
       "    </tr>\n",
       "    <tr>\n",
       "      <th>L3</th>\n",
       "      <td>29928.0</td>\n",
       "      <td>33072.257756</td>\n",
       "      <td>10720.509117</td>\n",
       "      <td>0.00</td>\n",
       "      <td>26119.98</td>\n",
       "      <td>31987.200</td>\n",
       "      <td>39084.000</td>\n",
       "      <td>117495.0</td>\n",
       "    </tr>\n",
       "    <tr>\n",
       "      <th>L4</th>\n",
       "      <td>10836.0</td>\n",
       "      <td>29067.414313</td>\n",
       "      <td>9176.431608</td>\n",
       "      <td>1969.14</td>\n",
       "      <td>23075.25</td>\n",
       "      <td>28554.000</td>\n",
       "      <td>34413.750</td>\n",
       "      <td>91677.0</td>\n",
       "    </tr>\n",
       "    <tr>\n",
       "      <th>L5</th>\n",
       "      <td>13932.0</td>\n",
       "      <td>25187.787261</td>\n",
       "      <td>8990.099353</td>\n",
       "      <td>1748.28</td>\n",
       "      <td>19416.00</td>\n",
       "      <td>24528.000</td>\n",
       "      <td>30395.235</td>\n",
       "      <td>86203.2</td>\n",
       "    </tr>\n",
       "  </tbody>\n",
       "</table>\n",
       "</div>"
      ],
      "text/plain": [
       "                 count          mean           std      min       25%  \\\n",
       "Location_Type                                                           \n",
       "L1             85140.0  41453.597889  13520.616642     0.00  32598.00   \n",
       "L2             48504.0  59231.480373  20642.975708     0.00  45731.25   \n",
       "L3             29928.0  33072.257756  10720.509117     0.00  26119.98   \n",
       "L4             10836.0  29067.414313   9176.431608  1969.14  23075.25   \n",
       "L5             13932.0  25187.787261   8990.099353  1748.28  19416.00   \n",
       "\n",
       "                     50%        75%       max  \n",
       "Location_Type                                  \n",
       "L1             39831.000  48702.000  144789.0  \n",
       "L2             56235.975  69555.000  247215.0  \n",
       "L3             31987.200  39084.000  117495.0  \n",
       "L4             28554.000  34413.750   91677.0  \n",
       "L5             24528.000  30395.235   86203.2  "
      ]
     },
     "execution_count": 15,
     "metadata": {},
     "output_type": "execute_result"
    }
   ],
   "source": [
    "df.groupby('Location_Type')['Sales'].describe()"
   ]
  },
  {
   "cell_type": "code",
   "execution_count": 16,
   "id": "fead46b6-6f3a-40b5-82c4-136860417928",
   "metadata": {
    "tags": []
   },
   "outputs": [
    {
     "data": {
      "text/html": [
       "<div>\n",
       "<style scoped>\n",
       "    .dataframe tbody tr th:only-of-type {\n",
       "        vertical-align: middle;\n",
       "    }\n",
       "\n",
       "    .dataframe tbody tr th {\n",
       "        vertical-align: top;\n",
       "    }\n",
       "\n",
       "    .dataframe thead th {\n",
       "        text-align: right;\n",
       "    }\n",
       "</style>\n",
       "<table border=\"1\" class=\"dataframe\">\n",
       "  <thead>\n",
       "    <tr style=\"text-align: right;\">\n",
       "      <th></th>\n",
       "      <th>count</th>\n",
       "      <th>mean</th>\n",
       "      <th>std</th>\n",
       "      <th>min</th>\n",
       "      <th>25%</th>\n",
       "      <th>50%</th>\n",
       "      <th>75%</th>\n",
       "      <th>max</th>\n",
       "    </tr>\n",
       "    <tr>\n",
       "      <th>Store_Type</th>\n",
       "      <th></th>\n",
       "      <th></th>\n",
       "      <th></th>\n",
       "      <th></th>\n",
       "      <th></th>\n",
       "      <th></th>\n",
       "      <th></th>\n",
       "      <th></th>\n",
       "    </tr>\n",
       "  </thead>\n",
       "  <tbody>\n",
       "    <tr>\n",
       "      <th>S1</th>\n",
       "      <td>88752.0</td>\n",
       "      <td>37676.511694</td>\n",
       "      <td>12303.151090</td>\n",
       "      <td>0.00</td>\n",
       "      <td>29859.0</td>\n",
       "      <td>36444.0</td>\n",
       "      <td>44439.00</td>\n",
       "      <td>143841.0</td>\n",
       "    </tr>\n",
       "    <tr>\n",
       "      <th>S2</th>\n",
       "      <td>28896.0</td>\n",
       "      <td>27530.828222</td>\n",
       "      <td>9168.839395</td>\n",
       "      <td>1748.28</td>\n",
       "      <td>21666.0</td>\n",
       "      <td>26794.5</td>\n",
       "      <td>32703.90</td>\n",
       "      <td>96363.0</td>\n",
       "    </tr>\n",
       "    <tr>\n",
       "      <th>S3</th>\n",
       "      <td>24768.0</td>\n",
       "      <td>47063.068209</td>\n",
       "      <td>14907.465521</td>\n",
       "      <td>0.00</td>\n",
       "      <td>37656.0</td>\n",
       "      <td>45445.5</td>\n",
       "      <td>55062.75</td>\n",
       "      <td>166323.0</td>\n",
       "    </tr>\n",
       "    <tr>\n",
       "      <th>S4</th>\n",
       "      <td>45924.0</td>\n",
       "      <td>59945.685926</td>\n",
       "      <td>20750.228035</td>\n",
       "      <td>0.00</td>\n",
       "      <td>46503.0</td>\n",
       "      <td>57075.0</td>\n",
       "      <td>70326.75</td>\n",
       "      <td>247215.0</td>\n",
       "    </tr>\n",
       "  </tbody>\n",
       "</table>\n",
       "</div>"
      ],
      "text/plain": [
       "              count          mean           std      min      25%      50%  \\\n",
       "Store_Type                                                                   \n",
       "S1          88752.0  37676.511694  12303.151090     0.00  29859.0  36444.0   \n",
       "S2          28896.0  27530.828222   9168.839395  1748.28  21666.0  26794.5   \n",
       "S3          24768.0  47063.068209  14907.465521     0.00  37656.0  45445.5   \n",
       "S4          45924.0  59945.685926  20750.228035     0.00  46503.0  57075.0   \n",
       "\n",
       "                 75%       max  \n",
       "Store_Type                      \n",
       "S1          44439.00  143841.0  \n",
       "S2          32703.90   96363.0  \n",
       "S3          55062.75  166323.0  \n",
       "S4          70326.75  247215.0  "
      ]
     },
     "execution_count": 16,
     "metadata": {},
     "output_type": "execute_result"
    }
   ],
   "source": [
    "df.groupby('Store_Type')['Sales'].describe()"
   ]
  },
  {
   "cell_type": "code",
   "execution_count": 17,
   "id": "69dd28a6-3654-410b-96eb-e95214c232b7",
   "metadata": {
    "tags": []
   },
   "outputs": [
    {
     "data": {
      "text/html": [
       "<div>\n",
       "<style scoped>\n",
       "    .dataframe tbody tr th:only-of-type {\n",
       "        vertical-align: middle;\n",
       "    }\n",
       "\n",
       "    .dataframe tbody tr th {\n",
       "        vertical-align: top;\n",
       "    }\n",
       "\n",
       "    .dataframe thead th {\n",
       "        text-align: right;\n",
       "    }\n",
       "</style>\n",
       "<table border=\"1\" class=\"dataframe\">\n",
       "  <thead>\n",
       "    <tr style=\"text-align: right;\">\n",
       "      <th></th>\n",
       "      <th>count</th>\n",
       "      <th>mean</th>\n",
       "      <th>std</th>\n",
       "      <th>min</th>\n",
       "      <th>25%</th>\n",
       "      <th>50%</th>\n",
       "      <th>75%</th>\n",
       "      <th>max</th>\n",
       "    </tr>\n",
       "    <tr>\n",
       "      <th>Holiday</th>\n",
       "      <th></th>\n",
       "      <th></th>\n",
       "      <th></th>\n",
       "      <th></th>\n",
       "      <th></th>\n",
       "      <th></th>\n",
       "      <th></th>\n",
       "      <th></th>\n",
       "    </tr>\n",
       "  </thead>\n",
       "  <tbody>\n",
       "    <tr>\n",
       "      <th>0</th>\n",
       "      <td>163520.0</td>\n",
       "      <td>43897.288998</td>\n",
       "      <td>18143.426019</td>\n",
       "      <td>0.0</td>\n",
       "      <td>31389.00</td>\n",
       "      <td>40530.00</td>\n",
       "      <td>52761.000</td>\n",
       "      <td>247215.00</td>\n",
       "    </tr>\n",
       "    <tr>\n",
       "      <th>1</th>\n",
       "      <td>24820.0</td>\n",
       "      <td>35451.878930</td>\n",
       "      <td>18822.332593</td>\n",
       "      <td>0.0</td>\n",
       "      <td>23778.57</td>\n",
       "      <td>33417.54</td>\n",
       "      <td>45247.125</td>\n",
       "      <td>197840.61</td>\n",
       "    </tr>\n",
       "  </tbody>\n",
       "</table>\n",
       "</div>"
      ],
      "text/plain": [
       "            count          mean           std  min       25%       50%  \\\n",
       "Holiday                                                                  \n",
       "0        163520.0  43897.288998  18143.426019  0.0  31389.00  40530.00   \n",
       "1         24820.0  35451.878930  18822.332593  0.0  23778.57  33417.54   \n",
       "\n",
       "               75%        max  \n",
       "Holiday                        \n",
       "0        52761.000  247215.00  \n",
       "1        45247.125  197840.61  "
      ]
     },
     "execution_count": 17,
     "metadata": {},
     "output_type": "execute_result"
    }
   ],
   "source": [
    "df.groupby('Holiday')['Sales'].describe()"
   ]
  },
  {
   "cell_type": "code",
   "execution_count": 18,
   "id": "14d7d333-e4a1-4b95-baed-13fea7e83ff8",
   "metadata": {
    "tags": []
   },
   "outputs": [
    {
     "data": {
      "text/html": [
       "<div>\n",
       "<style scoped>\n",
       "    .dataframe tbody tr th:only-of-type {\n",
       "        vertical-align: middle;\n",
       "    }\n",
       "\n",
       "    .dataframe tbody tr th {\n",
       "        vertical-align: top;\n",
       "    }\n",
       "\n",
       "    .dataframe thead th {\n",
       "        text-align: right;\n",
       "    }\n",
       "</style>\n",
       "<table border=\"1\" class=\"dataframe\">\n",
       "  <thead>\n",
       "    <tr style=\"text-align: right;\">\n",
       "      <th></th>\n",
       "      <th>count</th>\n",
       "      <th>mean</th>\n",
       "      <th>std</th>\n",
       "      <th>min</th>\n",
       "      <th>25%</th>\n",
       "      <th>50%</th>\n",
       "      <th>75%</th>\n",
       "      <th>max</th>\n",
       "    </tr>\n",
       "    <tr>\n",
       "      <th>Discount</th>\n",
       "      <th></th>\n",
       "      <th></th>\n",
       "      <th></th>\n",
       "      <th></th>\n",
       "      <th></th>\n",
       "      <th></th>\n",
       "      <th></th>\n",
       "      <th></th>\n",
       "    </tr>\n",
       "  </thead>\n",
       "  <tbody>\n",
       "    <tr>\n",
       "      <th>No</th>\n",
       "      <td>104051.0</td>\n",
       "      <td>37403.679678</td>\n",
       "      <td>16039.555183</td>\n",
       "      <td>0.00</td>\n",
       "      <td>27069.00</td>\n",
       "      <td>34791.0</td>\n",
       "      <td>44968.5</td>\n",
       "      <td>197840.61</td>\n",
       "    </tr>\n",
       "    <tr>\n",
       "      <th>Yes</th>\n",
       "      <td>84289.0</td>\n",
       "      <td>49426.497620</td>\n",
       "      <td>19071.656642</td>\n",
       "      <td>1969.14</td>\n",
       "      <td>36625.35</td>\n",
       "      <td>46242.0</td>\n",
       "      <td>58869.0</td>\n",
       "      <td>247215.00</td>\n",
       "    </tr>\n",
       "  </tbody>\n",
       "</table>\n",
       "</div>"
      ],
      "text/plain": [
       "             count          mean           std      min       25%      50%  \\\n",
       "Discount                                                                     \n",
       "No        104051.0  37403.679678  16039.555183     0.00  27069.00  34791.0   \n",
       "Yes        84289.0  49426.497620  19071.656642  1969.14  36625.35  46242.0   \n",
       "\n",
       "              75%        max  \n",
       "Discount                      \n",
       "No        44968.5  197840.61  \n",
       "Yes       58869.0  247215.00  "
      ]
     },
     "execution_count": 18,
     "metadata": {},
     "output_type": "execute_result"
    }
   ],
   "source": [
    "df.groupby('Discount')['Sales'].describe()"
   ]
  },
  {
   "cell_type": "code",
   "execution_count": 19,
   "id": "9cd801dd-3682-4f72-b8d6-5766bbc837de",
   "metadata": {
    "tags": []
   },
   "outputs": [
    {
     "name": "stderr",
     "output_type": "stream",
     "text": [
      "C:\\Users\\Virman\\AppData\\Local\\Temp\\ipykernel_12896\\2096429990.py:4: UserWarning: The figure layout has changed to tight\n",
      "  plt.tight_layout()\n",
      "C:\\Users\\Virman\\AppData\\Local\\Temp\\ipykernel_12896\\2096429990.py:4: UserWarning: The figure layout has changed to tight\n",
      "  plt.tight_layout()\n",
      "C:\\Users\\Virman\\AppData\\Local\\Temp\\ipykernel_12896\\2096429990.py:4: UserWarning: The figure layout has changed to tight\n",
      "  plt.tight_layout()\n"
     ]
    },
    {
     "data": {
      "image/png": "[encoded data removed]",
      "text/plain": [
       "<Figure size 640x480 with 4 Axes>"
      ]
     },
     "metadata": {},
     "output_type": "display_data"
    }
   ],
   "source": [
    "for i in range(0, len(nums)):\n",
    "    plt.subplot(1, len(nums), i+1)\n",
    "    sns.boxplot(y=df[nums[i]], color='green', orient='v')\n",
    "    plt.tight_layout()"
   ]
  },
  {
   "cell_type": "code",
   "execution_count": 20,
   "id": "6572715e-1f22-4a97-b036-d2e6aa9f82ac",
   "metadata": {
    "tags": []
   },
   "outputs": [
    {
     "name": "stdout",
     "output_type": "stream",
     "text": [
      "Jumlah baris sebelum memfilter outlier: 188340\n",
      "Jumlah baris setelah memfilter outlier: 188340\n"
     ]
    }
   ],
   "source": [
    "print(f'Jumlah baris sebelum memfilter outlier: {len(df)}')\n",
    "\n",
    "filtered_entries = np.array([True] * len(df))\n",
    "\n",
    "for col in ['Store_id', 'Holiday', '#Order', 'Sales']:\n",
    "    zscore = abs(stats.zscore(df[col])) # hitung absolute z-scorenya\n",
    "    filtered_entries = (zscore < 3) & filtered_entries # keep yang kurang dari 3 absolute z-scorenya\n",
    "    \n",
    "df2 = df[filtered_entries] # filter, cuma ambil yang z-scorenya dibawah 3\n",
    "\n",
    "print(f'Jumlah baris setelah memfilter outlier: {len(df)}')"
   ]
  },
  {
   "cell_type": "code",
   "execution_count": 21,
   "id": "801ab598-5785-4dff-8ca0-370f3133c413",
   "metadata": {
    "tags": []
   },
   "outputs": [
    {
     "name": "stderr",
     "output_type": "stream",
     "text": [
      "C:\\Users\\Virman\\AppData\\Local\\Temp\\ipykernel_12896\\1945719138.py:5: UserWarning: The figure layout has changed to tight\n",
      "  plt.tight_layout()\n",
      "C:\\Users\\Virman\\AppData\\Local\\Temp\\ipykernel_12896\\1945719138.py:5: UserWarning: The figure layout has changed to tight\n",
      "  plt.tight_layout()\n",
      "C:\\Users\\Virman\\AppData\\Local\\Temp\\ipykernel_12896\\1945719138.py:5: UserWarning: The figure layout has changed to tight\n",
      "  plt.tight_layout()\n"
     ]
    },
    {
     "data": {
      "image/png": "[encoded data removed]",
      "text/plain": [
       "<Figure size 640x480 with 4 Axes>"
      ]
     },
     "metadata": {},
     "output_type": "display_data"
    }
   ],
   "source": [
    "for i in range(0, len(nums)):\n",
    "    plt.subplot(1, len(nums), i+1)\n",
    "    sns.boxplot(y=df2[nums[i]], color='green', orient='v')\n",
    "    plt.xlabel(nums[i])\n",
    "    plt.tight_layout()"
   ]
  },
  {
   "cell_type": "code",
   "execution_count": 28,
   "id": "7882855e-1654-4faf-b4b0-5540e5d953ef",
   "metadata": {
    "tags": []
   },
   "outputs": [
    {
     "data": {
      "text/plain": [
       "<Axes: xlabel='Holiday', ylabel='Sales'>"
      ]
     },
     "execution_count": 28,
     "metadata": {},
     "output_type": "execute_result"
    },
    {
     "data": {
      "image/png": "[encoded data removed]",
      "text/plain": [
       "<Figure size 640x480 with 1 Axes>"
      ]
     },
     "metadata": {},
     "output_type": "display_data"
    }
   ],
   "source": [
    "sns.barplot(data=df2, x='Holiday', y='Sales',hue='Location_Type')"
   ]
  },
  {
   "cell_type": "markdown",
   "id": "5e0656ee-1216-4efc-b41b-02a8a9c5a7ff",
   "metadata": {},
   "source": [
    "Pengaruh hari libur terhadap penjualan menunjukkan bahwa terdapat penurunan terhadap penjualan ketika hari libur, hal ini dapat terjadi karena banyak store yang tutup pada hari libur.\n",
    "Rekomendasi : promosi khusus atau strategi pemasaran untuk meningkatkan penjualan pada hari libur."
   ]
  },
  {
   "cell_type": "code",
   "execution_count": 29,
   "id": "b93dd96f-f3ea-4c3a-b11c-2cf678030e63",
   "metadata": {
    "tags": []
   },
   "outputs": [
    {
     "data": {
      "text/plain": [
       "(array([0, 1, 2, 3, 4]),\n",
       " [Text(0, 0, 'L3'),\n",
       "  Text(1, 0, 'L2'),\n",
       "  Text(2, 0, 'L1'),\n",
       "  Text(3, 0, 'L5'),\n",
       "  Text(4, 0, 'L4')])"
      ]
     },
     "execution_count": 29,
     "metadata": {},
     "output_type": "execute_result"
    },
    {
     "data": {
      "image/png": "[encoded data removed]",
      "text/plain": [
       "<Figure size 1000x600 with 1 Axes>"
      ]
     },
     "metadata": {},
     "output_type": "display_data"
    }
   ],
   "source": [
    "plt.figure(figsize=(10, 6))\n",
    "plt.title('Rata-Rata Penjualan berdasarkan Location Type')\n",
    "sns.barplot(x='Location_Type',\n",
    "            y='Sales',\n",
    "            data=df2)\n",
    "plt.xticks(rotation=0)"
   ]
  },
  {
   "cell_type": "markdown",
   "id": "76e2a027-85ee-47dc-873a-a1f4b090b513",
   "metadata": {},
   "source": [
    "Berdasarkan location type, terdapat penjualan tertinggi pada L2 dan penjualan terendah terdapat pada L5"
   ]
  },
  {
   "cell_type": "code",
   "execution_count": 30,
   "id": "a314f6ec-2239-4c14-b0ce-b6d0dc121c46",
   "metadata": {
    "tags": []
   },
   "outputs": [
    {
     "data": {
      "text/plain": [
       "(array([0, 1, 2, 3]),\n",
       " [Text(0, 0, 'S1'), Text(1, 0, 'S4'), Text(2, 0, 'S3'), Text(3, 0, 'S2')])"
      ]
     },
     "execution_count": 30,
     "metadata": {},
     "output_type": "execute_result"
    },
    {
     "data": {
      "image/png": "[encoded data removed]",
      "text/plain": [
       "<Figure size 1000x600 with 1 Axes>"
      ]
     },
     "metadata": {},
     "output_type": "display_data"
    }
   ],
   "source": [
    "plt.figure(figsize=(10, 6))\n",
    "plt.title('Rata-Rata Penjualan berdasarkan Store Type')\n",
    "sns.barplot(x='Store_Type',\n",
    "            y='Sales',\n",
    "            data=df2)\n",
    "plt.xticks(rotation=0)"
   ]
  },
  {
   "cell_type": "markdown",
   "id": "b0c192b4-9c15-4fb4-a4e4-109545899e92",
   "metadata": {
    "tags": []
   },
   "source": [
    "Penjualan tertinggi terdapat pada S4, dan terendah pada S2"
   ]
  },
  {
   "cell_type": "code",
   "execution_count": 31,
   "id": "c38fc8af-22d3-4313-b761-aa4840d20aa0",
   "metadata": {
    "tags": []
   },
   "outputs": [
    {
     "data": {
      "text/plain": [
       "(array([0, 1]), [Text(0, 0, 'Yes'), Text(1, 0, 'No')])"
      ]
     },
     "execution_count": 31,
     "metadata": {},
     "output_type": "execute_result"
    },
    {
     "data": {
      "image/png": "[encoded data removed]",
      "text/plain": [
       "<Figure size 1000x600 with 1 Axes>"
      ]
     },
     "metadata": {},
     "output_type": "display_data"
    }
   ],
   "source": [
    "plt.figure(figsize=(10, 6))\n",
    "plt.title('Rata-Rata Penjualan berdasarkan Store Type')\n",
    "sns.barplot(x='Discount',\n",
    "            y='Sales',\n",
    "            data=df2)\n",
    "plt.xticks(rotation=0)"
   ]
  },
  {
   "cell_type": "markdown",
   "id": "b9d7de4d-6282-49c2-93dc-f962281a4ead",
   "metadata": {},
   "source": [
    "Penjualan tertinggi ketika ada program discount namun tidak berbeda secara signifikan"
   ]
  },
  {
   "cell_type": "markdown",
   "id": "f1674e4f-c456-416d-bf93-c9a3e79a19e9",
   "metadata": {},
   "source": [
    "Rekomendasi : <br>\n",
    "- Pada saat libur, bisa melakukan strategi promosi atau bisa dikombinasikan dengan program discount untuk menunjanga penjualan pada setiap store.\n",
    "- Lokasi store sangat berpengaruh pada penjualan, perlu mengeksplore setiap lokasi untuk dapat melakukan penjualan secara merata\n",
    "- Berdasarkan analisis jenis toko dan lokasi, strategi penjualan dapat dipersonalisasi untuk masing-masing toko, agar penjualan dapat meningkat secara rata"
   ]
  },
  {
   "cell_type": "code",
   "execution_count": null,
   "id": "25d3bd78-b05c-4b39-9784-6cfc97e87581",
   "metadata": {},
   "outputs": [],
   "source": []
  }
 ],
 "metadata": {
  "kernelspec": {
   "display_name": "Python 3 (ipykernel)",
   "language": "python",
   "name": "python3"
  },
  "language_info": {
   "codemirror_mode": {
    "name": "ipython",
    "version": 3
   },
   "file_extension": ".py",
   "mimetype": "text/x-python",
   "name": "python",
   "nbconvert_exporter": "python",
   "pygments_lexer": "ipython3",
   "version": "3.11.5"
  }
 },
 "nbformat": 4,
 "nbformat_minor": 5
}
